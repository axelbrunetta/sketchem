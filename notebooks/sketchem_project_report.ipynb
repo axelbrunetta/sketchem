{
 "cells": [
  {
   "cell_type": "markdown",
   "id": "e7fd421d-6b4e-4156-aca3-8ed76e343043",
   "metadata": {},
   "source": [
    "# 🧪 Sketchem: A Molecular Pictionary \n",
    "---\n",
    "Welcome to this interactive Jupyter Notebook! 🎉\n",
    "\n",
    "**About This Notebook:**\n",
    "This notebook demonstrates Sketchem, an innovative tool that bridges the gap between hand-drawn chemical structures and their digital representations. Using advanced image recognition, Sketchem can identify hand-drawn molecular structures and convert them into standardized SMILES notation. But Sketchem doesn't doe just that. Whether you're a chemistry student learning to draw structures, a researcher sketching molecules, or simply interested in the intersection of chemistry and computer vision, this notebook provides insights into how Sketchem works and the problems it solves.\n",
    "\n",
    "**Getting Started:**\n",
    "Each section contains explanations, code demonstrations, and visualizations to help you understand the capabilities of Sketchem.\n",
    "\n",
    "**How to Use:**\n",
    "Feel free to run the code cells to see Sketchem in action. The notebook demonstrates key functionalities without diving too much into implementation details.\n",
    "\n",
    "**Let's Dive In!**\n",
    "Start exploring the world of molecular recognition with Sketchem! 🚀"
   ]
  },
  {
   "cell_type": "markdown",
   "id": "59926b16-ce15-4a66-9761-9e5757a5a0b6",
   "metadata": {},
   "source": [
    "## 🔬 Introduction: The Chemistry of Molecular Representation\n",
    "---\n",
    "\n",
    "### The Challenge of Chemical Structure Recognition\n",
    "\n",
    "Chemical structures are the visual language of chemistry. Chemists communicate molecular structures through standardized drawings that represent atoms, bonds, and spatial arrangements. However, translating between hand-drawn structures and computer-readable formats presents significant challenges:\n",
    "\n",
    "1. **Variability in Drawing Styles**: Different chemists may draw the same molecule with variations in bond lengths, angles, and atom placements.\n",
    "2. **Complexity of Representation**: Chemical structures can range from simple linear molecules to complex polycyclic compounds with multiple functional groups.\n",
    "3. **Standardization Requirements**: For computational analysis, structures must be converted to standardized formats like SMILES (Simplified Molecular Input Line Entry System).\n",
    "\n",
    "### SMILES Notation: The Digital Language of Chemistry\n",
    "\n",
    "blablabla\n",
    "\n",
    "### The Role of AI in Chemical Structure Recognition\n",
    "\n",
    "talk ab ML"
   ]
  },
  {
   "cell_type": "markdown",
   "id": "1d8f0ddc-8435-4798-b0bd-1a0c15df57f9",
   "metadata": {},
   "source": [
    "## 🧪 Sketchem\n",
    "---\n",
    "\n",
    "### What is Sketchem?\n",
    "\n",
    "Sketchem is a molecular pictionary game that combines the fun of drawing games with the educational value of learning chemical structures. It serves multiple purposes:\n",
    "\n",
    "1. **Educational Tool**: Helps students learn to draw and memorize chemical structures\n",
    "2. **AI's Capabilities**: Displays the power of multimodal models and how they can be put to good use.\n",
    "\n",
    "### Architecture Overview\n",
    "\n",
    "Sketchem is built using a modern web application stack:\n",
    "\n",
    "1. **Frontend**: Streamlit for the user interface and interactive elements\n",
    "2. **Drawing Interface**: Streamlit-drawable-canvas for the molecular drawing canvas\n",
    "3. **AI Integration**: Google's Gemini API for image recognition and SMILES generation\n",
    "4. **Chemical Processing**: RDKit for molecular validation and visualization\n",
    "5. **State Management**: Streamlit's session state for game state management\n",
    "6. **Multiplayer**: In-memory database for multiplayer functionality\n",
    "\n"
   ]
  },
  {
   "cell_type": "markdown",
   "id": "019a57f1-f8a8-4f58-925c-92f4415bdbdf",
   "metadata": {},
   "source": [
    "## 📊 Educational Impact and Applications\n",
    "---\n",
    "\n",
    "Sketchem has several educational applications and impacts:\n",
    "\n",
    "### Chemistry Education\n",
    "\n",
    "1. **Interactive Learning**: Makes learning chemical structures more engaging and encourages repeated practice through competition\n",
    "2. **Immediate Feedback**: Helps students correct their mistakes quickly using almost-instantaneous feedback called \"Hints\"\n",
    "3. **Close to Real Life**: Our idea behind using a canvas-based drawing platform instead of the typical bond / atom molecule drawing packages was its similarity to how one would draw molecules on paper; and we strongly believe our canvas-based approach is optimized for a proper learning experience\n",
    "\n",
    "But Sketchem is also a POC (proof of concept) for the use of AIs such as Gemini for molecule recognition:\n",
    "\n",
    "### Research Applications\n",
    "\n",
    "1. **Rapid Digitization**: Our code could be reused and perfected to create a tool like DECIMER that allows researchers to quickly digitize hand-drawn ideas, but without the cumbersome aspect of ML models nor the wait times associated with using ML-based packages like DECIMER.\n",
    "\n",
    "2. **Quick Database Creations**: Our code could be reused and perfected to create a tool that generates a very detailed database that includes molecule names, SMILES strings and much more information, from a single user-typed prompt.\n",
    "\n",
    "MORE?\n"
   ]
  },
  {
   "cell_type": "markdown",
   "id": "6f2efc37-f6e3-420c-aa33-5382880ba7ab",
   "metadata": {},
   "source": [
    "## 🎮 Game Mechanics: How Sketchem Works\n",
    "---\n",
    "\n",
    "Sketchem offers both single-player and multiplayer modes, each with unique gameplay mechanics:\n",
    "\n",
    "### Multiplayer Mode\n",
    "\n",
    "1. **Room Creation**: A host creates a game room with a unique code, a unique molecule category, and a set game duration\n",
    "2. **Player Joining**: Other players join using the room code\n",
    "3. **Same Challenges**: All players receive the same molecules to draw and have to draw them before the timer ends\n",
    "4. **Real-time Leaderboard**: Scores are updated in real-time and players are ranked not just based on their score but also based on the time it took them to get that score\n",
    "\n",
    "### Single-Player Mode\n",
    "\n",
    "1. **The Same but Better**: The singleplayer option offers all of the options of the multiplayer one, except YOU choose your own pace and what you want to work on \n",
    "2. **Validation & Feedback**: Just like for the multiplayer option, you can choose to receive immediate feedback on your drawing accuracy using the \"Hint\" option\n",
    "\n",
    "\n",
    "The multiplayer functionality is implemented using Streamlit's session state and an in-memory database, allowing for a seamless multiplayer experience without requiring external database services like Firestore."
   ]
  },
  {
   "cell_type": "markdown",
   "id": "97b1c624-48c2-4a01-9ac3-1e127a322846",
   "metadata": {},
   "source": [
    "## 🔧 Setting Up Our Environment\n",
    "---\n",
    "Now that we've gotten through all the technical stuff, let's test these awesome features, shall we? \n",
    "\n",
    "But first, let's import all the necessary dependencies. Sketchem relies on several key libraries for all of its awesome features!"
   ]
  },
  {
   "cell_type": "code",
   "execution_count": 1,
   "id": "dd6dafe5-0218-405a-9e74-ad7cc6e7867b",
   "metadata": {},
   "outputs": [],
   "source": [
    "#IMPORT ALL NECESSARY STUFF HERE\n",
    "import streamlit as st\n",
    "from streamlit_drawable_canvas import st_canvas\n",
    "from PIL import Image\n",
    "import io\n",
    "import time\n",
    "from streamlit_extras.vertical_slider import vertical_slider\n",
    "from sketchem.utils.back_button import back_button\n",
    "from sketchem.db.mock_db import get_game\n",
    "from sketchem.data.molecules import MOLECULE_CATEGORIES\n",
    "from streamlit.logger import get_logger\n",
    "import logging\n",
    "from sketchem.utils.smiles_validator_ai import validate_drawing_with_ai\n",
    "from sketchem.utils.environment import get_gemini_api_key\n",
    "import pubchempy as pcpfrom sketchem.utils.create_category import check_category_is_default,get_molecules_for_category_pubchem\n",
    "from streamlit_extras.stoggle import stoggle\n",
    "import os\n",
    "from pathlib import Path\n",
    "import base64\n",
    "\n",
    "\n",
    "\n",
    "# For demonstration purposes, we'll use some pre-defined images and SMILES strings from the data folder\n",
    "\n",
    "sample_smiles = [ # Randomly selected molecules from our game's default molecule categories\n",
    "    \"CC(=O)O\",  # Acetic acid -> add names and make it a dict?\n",
    "    \"Nc1ncnc2[nH]cnc12\", #Adenine\n",
    "    \"C1CCCCC1\",  # Aspirin\n",
    "    \"CCO\"  # Ethanol\n",
    "    \"CC(C)C#C\", #3-Methyl-1-butyne\n",
    "] #-> will have to add more pictures of these molecules (hand-drawn) to the data"
   ]
  },
  {
   "cell_type": "markdown",
   "id": "532b5a11-18cc-4ce6-97b8-d7ee3687b457",
   "metadata": {},
   "source": [
    "## 📖 AI-Powered Category Creation\n",
    "---\n",
    "\n",
    "Our web app lets you practice molecules not only from default categories, but also from **custom lists** generated using AI! This means you can tailor the game to fit your current courses or personal learning goals. And the best part? It’s super simple!\n",
    "\n",
    "Here’s how it works:\n",
    "\n",
    "1. Type in the category you want to create\n",
    "2. Click “Generate Category”\n",
    "\n",
    "That’s it—you’re ready to go!\n",
    "Give it a try below and see for yourself!\n",
    "\n",
    "\n",
    "Allow reader to test category creation here "
   ]
  },
  {
   "cell_type": "code",
   "execution_count": 2,
   "id": "7bc4546c",
   "metadata": {},
   "outputs": [],
   "source": [
    "# Code here"
   ]
  },
  {
   "cell_type": "markdown",
   "id": "c939eae0",
   "metadata": {},
   "source": [
    "## 🧠 AI-Powered Molecule Recognition: The Heart of Sketchem\n",
    "---\n",
    "\n",
    "At the core of Sketchem is its AI-powered recognition system, which uses Google's Gemini AI to interpret hand-drawn molecular structures. The AI has been specifically prompted to understand chemical notation and convert drawings to SMILES strings.\n",
    "\n",
    "### The Recognition Process\n",
    "\n",
    "1. **Image Capture**: The drawing is captured from the canvas\n",
    "2. **Preprocessing**: The image is processed to transform it into an easy-to-share format: bytes\n",
    "3. **AI Analysis**: The image bytes are sent to Gemini AI with the specialized prompt\n",
    "4. **SMILES Generation**: The AI generates a SMILES string based on the drawing\n",
    "\n",
    "\n",
    "### Challenges in Molecular Recognition\n",
    "\n",
    "Recognizing hand-drawn chemical structures presents several challenges:\n",
    "\n",
    "1. **Variability in Drawing Styles**: Different users draw molecules differently\n",
    "2. **Ambiguity in Representation**: Some structural features can be ambiguous\n",
    "3. **Complexity of Chemical Notation**: Chemical notation has many special cases\n",
    "4. **Balance Between Strictness and Flexibility**: The system must be strict enough to ensure chemical accuracy but flexible enough to accommodate different drawing styles\n",
    "\n",
    "Sketchem addresses these challenges through its specialized AI prompt and validation system, which combines the flexibility of AI interpretation with the strictness of chemical validation."
   ]
  },
  {
   "cell_type": "code",
   "execution_count": 3,
   "id": "e4870394",
   "metadata": {},
   "outputs": [],
   "source": [
    "# Code here for molecule recognition\n",
    "\n"
   ]
  },
  {
   "cell_type": "code",
   "execution_count": 4,
   "id": "c5a7e5c7-9b1c-4d3a-a8c9-e5c5c9c2e0e9",
   "metadata": {},
   "outputs": [],
   "source": [
    "# CODE"
   ]
  },
  {
   "cell_type": "markdown",
   "id": "278af91d",
   "metadata": {},
   "source": [
    "## 😄 Smiles Verification\n",
    "---\n",
    "\n",
    "\n",
    "Explain smiles veri"
   ]
  },
  {
   "cell_type": "code",
   "execution_count": null,
   "id": "61abf9e8-e71c-41d7-9555-3081ce2fd907",
   "metadata": {},
   "outputs": [],
   "source": [
    "# Demonstrate SMILES validation\n",
    "\n",
    "\n",
    "# also show it with invalid SMILES\n",
    "\n",
    "#show with various thresholds"
   ]
  },
  {
   "cell_type": "markdown",
   "id": "472720e5-3d94-4a4c-ba2a-b85cc292877e",
   "metadata": {},
   "source": [
    "## 💻 Challenges & How We Handled Them\n",
    "---\n",
    "\n",
    "At the beginning of the project, our biggest challenge was figuring out how to manage the data for all the Sketchem players. The idea of storing, organizing, and tracking such a large amount of information felt overwhelming. We initially considered using **Firebase / Firestore** (Google's game-oriented database service), which is a cloud-based database. Instead, we quickly realized that Streamlit only runs one instance of every package (for everyone that accesses the website) when it is hosted on its platform Streamlit Cloud. We thus took advantage of that to create a \"mock\" database which would be stored in a dictionary inside of a python file of our project and would constantly be updated according to the user interactions with the website. This way, we didn't need to maintain an external database, which made things much simpler and helped us avoid extra workload.\n",
    "\n",
    "As we worked through the project and started developing our ideas, we ran into another big challenge: molecule recognition. Initially, we wanted to use **Decimer** to convert the hand-drawn molecules into SMILES and determine whether the drawing was correct. Although Decimer was incredibly accurate when we tested it locally, we faced several issues including long waiting times (close to 7 minutes for some molecules) and issues with running the ML model on the Streamlit Cloud platform (over-allocation of resources). This pushed us to look for another solution, and that's when we found **Google's Gemini**. Since LLMs are trained on huge amounts of data, our idea was that Gemini would be an ideal contender for Decimer. After switching to Gemini, many issues such as long wait times and allocation limits were fixed. \n",
    "\n",
    "Despite the slight improvement with Gemini, the switch from a dedicated ML-based package to a more generic LLM led to other issues such as uneven accuracy and difficulty in adjusting prompts to fit our needs. Not all correctly drawn molecules were recognized, and occasionally, false drawings were marked as correct. Unfortunately, no solution was found for this.\n",
    "\n",
    "\n",
    "Another issue arose when we decided to use Gemini for automatic category creation. As expected, Gemini's managed to create categories of molecules linked to a specific word or sentence really accurately. However, it really lagged behind when it came to finding the appropriate SMILES for the molecules in these categories. To improve this, we had the idea to connect Gemini to **PubChem**, a specialized chemistry database. This ensured all the generated SMILES were correct and didn't cause any additional issues later during the molecule recognition process.\n",
    "\n",
    "\n",
    "For building the web application, we chose **Streamlit** because it's a simple tool for creating web apps. It worked well for developing the core functionality of our project without much trouble. However, Streamlit’s simplicity meant that customizing the layout and formatting was harder than we expected. The default design didn’t meet our expectations, and it often resulted in a very plain user interface. This ended up costing us more time than we had planned. Still, we were able to make the best of it by customizing the layout as much as possible using custom div IDs from the deployed HTML code of the app, and we even created different versions of the web app depending on whether the user was on a phone or a computer.\n"
   ]
  },
  {
   "cell_type": "markdown",
   "id": "1ce59c28",
   "metadata": {},
   "source": [
    "## 🚀 Conclusion & Going Further\n",
    "---\n",
    "\n",
    "SketChem represents a meaningful step toward making chemistry more accessible and engaging. By combining interactive game modes with educational elements, it offers a fun and effective way to learn about molecules and improve structure-drawing skills. It can be used by study groups for exam preparation or by individuals during their free time. The app is suitable for all types of chemistry courses, as users can create custom molecule categories. This allows the content to be tailored to different fields such as organic, inorganic, coordination chemistry, etc.\n",
    "\n",
    "By combining AI with multiplayer game mechanics, we believe we’ve created a unique platform for learning and practicing chemical structure drawing. The web app’s simple and intuitive design makes it accessible to everyone—no prior experience or special instructions are needed. And if any confusion does come up, the guide page provides all the necessary information for using SketChem with ease.\n",
    "\n",
    "In this way, SketChem offers a fun and straightforward way to integrate chemistry into your daily student life. It makes learning molecules not only easier and more enjoyable, but also something you can do together with friends. It might even bring a bit of fun into exam season!\n",
    "\n",
    "\n",
    "### Key Achievements\n",
    "\n",
    "1. **Gamified Learning**: Created an engaging platform for learning chemical structures\n",
    "2. **AI-Powered Recognition**: Successfully implemented AI-based recognition of hand-drawn chemical structures\n",
    "3. **Multiplayer Functionality**: Implemented a seamless multiplayer experience without external databases\n",
    "4. MORE...\n",
    "\n",
    "### Future Directions\n",
    "\n",
    "1. **Enhanced Recognition Accuracy**: Further training and optimization of the AI model\n",
    "2. **Expanded Molecule Library**: More categories and better display of categories??\n",
    "3. **Advanced Game Modes**: ??\n",
    "\n"
   ]
  }
 ],
 "metadata": {
  "kernelspec": {
   "display_name": "sketchem",
   "language": "python",
   "name": "python3"
  },
  "language_info": {
   "codemirror_mode": {
    "name": "ipython",
    "version": 3
   },
   "file_extension": ".py",
   "mimetype": "text/x-python",
   "name": "python",
   "nbconvert_exporter": "python",
   "pygments_lexer": "ipython3",
   "version": "3.10.16"
  }
 },
 "nbformat": 4,
 "nbformat_minor": 5
}
